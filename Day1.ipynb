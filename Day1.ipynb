{
  "nbformat": 4,
  "nbformat_minor": 0,
  "metadata": {
    "colab": {
      "provenance": []
    },
    "kernelspec": {
      "name": "python3",
      "display_name": "Python 3"
    },
    "language_info": {
      "name": "python"
    }
  },
  "cells": [
    {
      "cell_type": "markdown",
      "source": [
        "Comments"
      ],
      "metadata": {
        "id": "NImOkjxGt2no"
      }
    },
    {
      "cell_type": "code",
      "source": [
        "# Here in this cell i write program to practice python comments\n",
        "# This program print some content\n",
        "print(\"Pakistan\") #Country name\n",
        "print(\"Pakistan,[e] officially the Islamic Republic of Pakistan,[f] is a country in South Asia.\")\n",
        "print(\"It is the fifth-most populous country, with a population of over 241.5 million\")  #population\n",
        "print(\"Islamabad is the nation's capital, while Karachi is its largest city and financial centre.\")  #capital and largest city"
      ],
      "metadata": {
        "colab": {
          "base_uri": "https://localhost:8080/"
        },
        "id": "4DbbScbQt5Yu",
        "outputId": "b13cbacd-5672-4887-aa1e-ca019ccd973d"
      },
      "execution_count": 1,
      "outputs": [
        {
          "output_type": "stream",
          "name": "stdout",
          "text": [
            "Pakistan\n",
            "Pakistan,[e] officially the Islamic Republic of Pakistan,[f] is a country in South Asia.\n",
            "It is the fifth-most populous country, with a population of over 241.5 million\n",
            "Islamabad is the nation's capital, while Karachi is its largest city and financial centre.\n"
          ]
        }
      ]
    },
    {
      "cell_type": "markdown",
      "source": [
        "Escape Sequence characters"
      ],
      "metadata": {
        "id": "HyuZaYHBv-ho"
      }
    },
    {
      "cell_type": "code",
      "source": [
        "#I am witing qoute in this cell to practice escape sequence charaters\n",
        "print('\"just one small \\n positive thought in the \\n morning can change your whole day.\"')"
      ],
      "metadata": {
        "colab": {
          "base_uri": "https://localhost:8080/"
        },
        "id": "b5ltbDEBtvHg",
        "outputId": "e419147e-fec2-4b46-8b52-814c8d603440"
      },
      "execution_count": 3,
      "outputs": [
        {
          "output_type": "stream",
          "name": "stdout",
          "text": [
            "\"just one small \n",
            " positive thought in the \n",
            " morning can change your whole day.\"\n"
          ]
        }
      ]
    },
    {
      "cell_type": "markdown",
      "source": [
        "**Variable and Datatypes :**\n",
        " Create variables to store your name, age, and whether you're enjoying learning Python (use a boolean). Then print these variables"
      ],
      "metadata": {
        "id": "0ZMEBO5-xwC_"
      }
    },
    {
      "cell_type": "code",
      "execution_count": 9,
      "metadata": {
        "colab": {
          "base_uri": "https://localhost:8080/"
        },
        "id": "tOR7NqXSts_f",
        "outputId": "2ba33afd-1989-425e-9b7b-1582c8671190"
      },
      "outputs": [
        {
          "output_type": "stream",
          "name": "stdout",
          "text": [
            "Laiba \n",
            " 25 \n",
            " True\n"
          ]
        }
      ],
      "source": [
        "#creating variables\n",
        "name = \"Laiba\"\n",
        "age = int(25)\n",
        "enjoyingPython = True\n",
        "print(name, \"\\n\" , age,  \"\\n\", enjoyingPython)"
      ]
    },
    {
      "cell_type": "markdown",
      "source": [
        "**Operator and Type casting: **\n",
        "Create a program that asks for two numbers as input, adds them, and prints the result along with their data types before and after type casting.\n",
        "\n"
      ],
      "metadata": {
        "id": "rua2g6SgzJjL"
      }
    },
    {
      "cell_type": "code",
      "source": [
        "a = input(\"Enter a first number :\")\n",
        "b = input(\"Enter a second number :\")\n",
        "sum = int(a) + int(b)\n",
        "print(\"Sum is : \", sum)\n",
        "print(\"Datatype before sum is : \\n a is\", type(a))\n",
        "print(\" b is\", type(b))\n",
        "print(\"Datatype after sum is : \", type(sum))\n"
      ],
      "metadata": {
        "colab": {
          "base_uri": "https://localhost:8080/"
        },
        "id": "x8zYtxkfzsuE",
        "outputId": "84f74ad3-fa47-4232-a789-3778eef234a7"
      },
      "execution_count": 12,
      "outputs": [
        {
          "output_type": "stream",
          "name": "stdout",
          "text": [
            "Enter a first number :2\n",
            "Enter a second number :3\n",
            "Sum is :  5\n",
            "Datatype before sum is : \n",
            " a is <class 'str'>\n",
            " ba is <class 'str'>\n",
            "Datatype after sum is :  <class 'int'>\n"
          ]
        }
      ]
    },
    {
      "cell_type": "markdown",
      "source": [
        "**String slicing:**\n",
        "Write a program that takes your name as input and prints:\n",
        "The first three characters\n",
        "The last three characters\n",
        "The name in reverse order"
      ],
      "metadata": {
        "id": "J75-POGm2sJX"
      }
    },
    {
      "cell_type": "code",
      "source": [
        "name = input(\"Enter your name :\")\n",
        "print(\"First three characters are :\", name[:3])\n",
        "print(\"Last three characters are :\", name[-3:])\n",
        "print(\"Reverse :\", name[::-1])"
      ],
      "metadata": {
        "colab": {
          "base_uri": "https://localhost:8080/"
        },
        "id": "lWbd6qNv26jn",
        "outputId": "9b38fe7b-c8cb-4849-9574-ce1582d5c85d"
      },
      "execution_count": 20,
      "outputs": [
        {
          "output_type": "stream",
          "name": "stdout",
          "text": [
            "Enter your name :laiba\n",
            "First three characters are : lai\n",
            "Last three characters are : iba\n",
            "Reverse : abial\n"
          ]
        }
      ]
    },
    {
      "cell_type": "code",
      "source": [
        "# Task 1: Extract Substrings\n",
        "# Write a program that takes a string input from the user and prints:\n",
        "# The first 4 characters.\n",
        "# The last 4 characters.\n",
        "# The substring from the 3rd to the 8th character (inclusive of 3rd but not 8th).\n",
        "a = input(\"Enter a string\")\n",
        "# print (a)\n",
        "print(a[:5])\n",
        "print(a[-4:])\n",
        "print(a[2:9])"
      ],
      "metadata": {
        "colab": {
          "base_uri": "https://localhost:8080/"
        },
        "id": "n2GdioLp1WZc",
        "outputId": "adaa2078-3af3-4056-c3b8-a5e1503bf5c7"
      },
      "execution_count": 5,
      "outputs": [
        {
          "output_type": "stream",
          "name": "stdout",
          "text": [
            "Enter a stringgood morning pakistan\n",
            "good morning pakistan\n",
            "good \n",
            "stan\n",
            "od morn\n"
          ]
        }
      ]
    },
    {
      "cell_type": "code",
      "source": [
        "# Task 2: Reverse the String\n",
        "# Write a program that takes a string from the user and prints:\n",
        "# The string reversed.\n",
        "# Every second character from the reversed string.\n",
        "# Task 2: Reverse the String\n",
        "user_input = input(\"Enter a string: \")\n",
        "# Print the reversed string\n",
        "reversed_string = user_input[::-1]\n",
        "print(\"Reversed string:\", reversed_string)\n",
        "\n",
        "# Print every second character from the reversed string\n",
        "every_second_char = reversed_string[::2]\n",
        "print(\"Every second character from the reversed string:\", every_second_char)\n"
      ],
      "metadata": {
        "colab": {
          "base_uri": "https://localhost:8080/"
        },
        "id": "MEqqu1tF2mOQ",
        "outputId": "84a5bcb9-a675-4c39-a259-7bf439c59f58"
      },
      "execution_count": 16,
      "outputs": [
        {
          "output_type": "stream",
          "name": "stdout",
          "text": [
            "Enter a string:  good\n",
            "Reversed string: doog \n",
            "Every second character from the reversed string: do \n"
          ]
        }
      ]
    },
    {
      "cell_type": "markdown",
      "source": [
        "**String Methods:**\n",
        " Take a sentence as input and:\n",
        "Convert it to uppercase\n",
        "Count how many times a specific letter appears Check if the string starts with a particular word"
      ],
      "metadata": {
        "id": "S0H9UTwC5_1F"
      }
    },
    {
      "cell_type": "code",
      "source": [
        "#Taking input from user\n",
        "a = input(\"Enter a sentence\")\n",
        "print(a)\n",
        "print(\"Diplays the given string in upparcase :\", a.capitalize())\n",
        "print(\"How many \\\" o \\\" in the given string : \" , a.count(\"o\"))\n",
        "print(\"Check the given string starts with \\\" A \\\" :\", a.startswith(\"A\"))\n"
      ],
      "metadata": {
        "colab": {
          "base_uri": "https://localhost:8080/"
        },
        "id": "MVxiIvik5vAg",
        "outputId": "e116127b-6823-4770-98ea-4db94014770e"
      },
      "execution_count": 29,
      "outputs": [
        {
          "output_type": "stream",
          "name": "stdout",
          "text": [
            "Enter a sentencelaiba\n",
            "laiba\n",
            "Diplays the given string in upparcase : Laiba\n",
            "How many \" o \" in the given string :  0\n",
            "Check the given string starts with \" A \" : False\n"
          ]
        }
      ]
    },
    {
      "cell_type": "code",
      "source": [],
      "metadata": {
        "id": "1RI7DnRN6FDD"
      },
      "execution_count": null,
      "outputs": []
    }
  ]
}